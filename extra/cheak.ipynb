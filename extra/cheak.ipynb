{
 "cells": [
  {
   "cell_type": "code",
   "execution_count": 23,
   "metadata": {},
   "outputs": [],
   "source": [
    "from transformers import AutoModel,T5ForConditionalGeneration,AutoModelForSeq2SeqLM\n",
    "import torch\n",
    "\n",
    "def params(model_name):\n",
    "    \n",
    "    # 加载预训练模型\n",
    "    # 你可以替换为你使用的模型名称\n",
    "    model = T5ForConditionalGeneration.from_pretrained(model_name)\n",
    "\n",
    "    # 计算模型的总参数量\n",
    "    all_param = 0\n",
    "    for _, param in model.named_parameters():\n",
    "        all_param += param.numel()\n",
    "    \n",
    "    if all_param < 1e6:\n",
    "        unit = \" \"\n",
    "        value = all_param\n",
    "    elif all_param < 1e9:\n",
    "        unit = \"M\"\n",
    "        value = all_param / 1e6\n",
    "    else:\n",
    "        unit = \"B\"\n",
    "        value = all_param / 1e9\n",
    "\n",
    "    print(f\"模型的总参数量: {value:.2f}{unit}\")"
   ]
  },
  {
   "cell_type": "code",
   "execution_count": null,
   "metadata": {},
   "outputs": [],
   "source": []
  },
  {
   "cell_type": "code",
   "execution_count": 25,
   "metadata": {},
   "outputs": [
    {
     "name": "stdout",
     "output_type": "stream",
     "text": [
      "模型的总参数量: 60.49M\n"
     ]
    }
   ],
   "source": [
    "params(\"/home/valiantsec/phb/models/codet5-small\")"
   ]
  },
  {
   "cell_type": "code",
   "execution_count": 24,
   "metadata": {},
   "outputs": [
    {
     "name": "stdout",
     "output_type": "stream",
     "text": [
      "模型的总参数量: 76.96M\n"
     ]
    }
   ],
   "source": [
    "params(\"/home/valiantsec/phb/models/flan-t5-small\")"
   ]
  },
  {
   "cell_type": "code",
   "execution_count": null,
   "metadata": {},
   "outputs": [],
   "source": []
  }
 ],
 "metadata": {
  "kernelspec": {
   "display_name": "phb",
   "language": "python",
   "name": "python3"
  },
  "language_info": {
   "codemirror_mode": {
    "name": "ipython",
    "version": 3
   },
   "file_extension": ".py",
   "mimetype": "text/x-python",
   "name": "python",
   "nbconvert_exporter": "python",
   "pygments_lexer": "ipython3",
   "version": "3.10.14"
  }
 },
 "nbformat": 4,
 "nbformat_minor": 2
}
